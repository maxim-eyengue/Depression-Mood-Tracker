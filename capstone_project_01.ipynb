{
 "cells": [
  {
   "cell_type": "markdown",
   "id": "af14072f-a151-4909-a99f-898f2f9fadd5",
   "metadata": {},
   "source": [
    "<h3>Usage:</h3>\n",
    "<p>This dataset is suitable for tasks such as predictive modeling, clustering, and exploratory data analysis. It provides valuable insights for understanding the relationships between personal and lifestyle factors and mental health outcomes, specifically focusing on depression detection and prevention.</p>\n",
    "\n",
    "In this project, we will use information about patient to predict if they have some **chronic medical conditions** or if they are **depressive**.\n",
    "\n",
    "Data sourced from: <a href=\"https://www.kaggle.com/datasets/anthonytherrien/depression-dataset\">Kaggle Depression Dataset</a>."
   ]
  },
  {
   "cell_type": "markdown",
   "id": "532e8128-661a-455c-827e-c7fbb8fb0f92",
   "metadata": {},
   "source": [
    "# Necessary setup"
   ]
  },
  {
   "cell_type": "markdown",
   "id": "0bf9a7cd-1939-47eb-87b9-372bb40bbc2d",
   "metadata": {},
   "source": [
    "Note that this project has been realised under `python 3.11` as **capstone project** for the **2024 ML Zoomcamp**."
   ]
  },
  {
   "cell_type": "markdown",
   "id": "48e3bb24-585a-4884-ba65-2e2f5aba1d57",
   "metadata": {},
   "source": [
    "## Install"
   ]
  },
  {
   "cell_type": "markdown",
   "id": "ed78434a-b9a8-4f4f-b7ba-2ce743741da6",
   "metadata": {},
   "source": [
    "Let's install `kaggle` to be able to download datasets from Kaggle."
   ]
  },
  {
   "cell_type": "code",
   "execution_count": 1,
   "id": "227d296f-9b22-4a7c-a2bc-bedc3cdf6ca7",
   "metadata": {},
   "outputs": [
    {
     "name": "stdout",
     "output_type": "stream",
     "text": [
      "Requirement already satisfied: kaggle in /home/maxim-eyengue/anaconda3/envs/ml-zoomcamp/lib/python3.11/site-packages (1.6.17)\n",
      "Requirement already satisfied: six>=1.10 in /home/maxim-eyengue/anaconda3/envs/ml-zoomcamp/lib/python3.11/site-packages (from kaggle) (1.16.0)\n",
      "Requirement already satisfied: certifi>=2023.7.22 in /home/maxim-eyengue/anaconda3/envs/ml-zoomcamp/lib/python3.11/site-packages (from kaggle) (2024.8.30)\n",
      "Requirement already satisfied: python-dateutil in /home/maxim-eyengue/anaconda3/envs/ml-zoomcamp/lib/python3.11/site-packages (from kaggle) (2.9.0.post0)\n",
      "Requirement already satisfied: requests in /home/maxim-eyengue/anaconda3/envs/ml-zoomcamp/lib/python3.11/site-packages (from kaggle) (2.32.3)\n",
      "Requirement already satisfied: tqdm in /home/maxim-eyengue/anaconda3/envs/ml-zoomcamp/lib/python3.11/site-packages (from kaggle) (4.67.0)\n",
      "Requirement already satisfied: python-slugify in /home/maxim-eyengue/anaconda3/envs/ml-zoomcamp/lib/python3.11/site-packages (from kaggle) (8.0.4)\n",
      "Requirement already satisfied: urllib3 in /home/maxim-eyengue/anaconda3/envs/ml-zoomcamp/lib/python3.11/site-packages (from kaggle) (2.2.3)\n",
      "Requirement already satisfied: bleach in /home/maxim-eyengue/anaconda3/envs/ml-zoomcamp/lib/python3.11/site-packages (from kaggle) (4.1.0)\n",
      "Requirement already satisfied: packaging in /home/maxim-eyengue/anaconda3/envs/ml-zoomcamp/lib/python3.11/site-packages (from bleach->kaggle) (24.1)\n",
      "Requirement already satisfied: webencodings in /home/maxim-eyengue/anaconda3/envs/ml-zoomcamp/lib/python3.11/site-packages (from bleach->kaggle) (0.5.1)\n",
      "Requirement already satisfied: text-unidecode>=1.3 in /home/maxim-eyengue/anaconda3/envs/ml-zoomcamp/lib/python3.11/site-packages (from python-slugify->kaggle) (1.3)\n",
      "Requirement already satisfied: charset-normalizer<4,>=2 in /home/maxim-eyengue/anaconda3/envs/ml-zoomcamp/lib/python3.11/site-packages (from requests->kaggle) (3.3.2)\n",
      "Requirement already satisfied: idna<4,>=2.5 in /home/maxim-eyengue/anaconda3/envs/ml-zoomcamp/lib/python3.11/site-packages (from requests->kaggle) (3.7)\n",
      "Requirement already satisfied: xgboost in /home/maxim-eyengue/anaconda3/envs/ml-zoomcamp/lib/python3.11/site-packages (2.1.2)\n",
      "Requirement already satisfied: numpy in /home/maxim-eyengue/anaconda3/envs/ml-zoomcamp/lib/python3.11/site-packages (from xgboost) (1.26.4)\n",
      "Requirement already satisfied: nvidia-nccl-cu12 in /home/maxim-eyengue/anaconda3/envs/ml-zoomcamp/lib/python3.11/site-packages (from xgboost) (2.23.4)\n",
      "Requirement already satisfied: scipy in /home/maxim-eyengue/anaconda3/envs/ml-zoomcamp/lib/python3.11/site-packages (from xgboost) (1.13.1)\n"
     ]
    }
   ],
   "source": [
    "# install kaggle library\n",
    "!pip install kaggle\n",
    "!pip install xgboost"
   ]
  },
  {
   "cell_type": "markdown",
   "id": "018fb848-aeb6-4142-abb6-22b64108ad7c",
   "metadata": {},
   "source": [
    "To use the command line interface, `'Kaggle CLI tool'`, we had to set up our **API keys**. \n",
    "\n",
    "For this, we went to the `'Account'` tab of our user profile on Kaggle, and selected `'Create New Token'`. This triggered the download of `kaggle.json`, a file containing our *API credentials*. We then made sure that the token was saved at *~/.kaggle/kaggle.json*, as we are working on `Ubuntu` (WSL distribution). It is the same address to verify for Linux, OSX, and other UNIX-based operating systems. For Windows, check *C:\\Users\\<Windows-username>\\.kaggle\\kaggle.json* instead. If the token is not there, an error will be raised. Hence, once downloaded the token, it should be moved to this folder."
   ]
  },
  {
   "cell_type": "markdown",
   "id": "f27df19a-0f49-4366-ab22-36fb3debac57",
   "metadata": {},
   "source": [
    "## Import"
   ]
  },
  {
   "cell_type": "code",
   "execution_count": 2,
   "id": "afc7e892-934d-46bd-94ad-ad0e8519fb49",
   "metadata": {},
   "outputs": [],
   "source": [
    "# Necessary import\n",
    "import pickle # to manipulate models\n",
    "import zipfile # to manipulate .zip file\n",
    "import xgboost as xgb # for gradient boosting classifier\n",
    "import numpy as np # for matrices and numerical manipulations\n",
    "import pandas as pd # for dataframes\n",
    "import matplotlib.pyplot as plt # for plots\n",
    "import seaborn as sns # for visualizing data\n",
    "\n",
    "from sklearn.metrics import mutual_info_score # for feature importance\n",
    "from sklearn.feature_extraction import DictVectorizer # for One-Hot Encoding\n",
    "from sklearn.model_selection import train_test_split, KFold # for cross-validation techniques\n",
    "from sklearn.linear_model import LogisticRegression # for logistic regression model\n",
    "from sklearn.tree import DecisionTreeClassifier # for decision trees\n",
    "from sklearn.ensemble import RandomForestClassifier # for random forest classifier"
   ]
  },
  {
   "cell_type": "code",
   "execution_count": 3,
   "id": "c00aa315-bb9d-4d80-a45c-6fdf2985777c",
   "metadata": {},
   "outputs": [],
   "source": [
    "# Import only to get versions\n",
    "import sys # for the system\n",
    "import matplotlib, sklearn # for visualization and modelisation library"
   ]
  },
  {
   "cell_type": "code",
   "execution_count": 4,
   "id": "57be57a5-53f1-407a-bc03-afff1fe52977",
   "metadata": {},
   "outputs": [
    {
     "name": "stdout",
     "output_type": "stream",
     "text": [
      "Platform: linux\n",
      "Python version: 3.11.10 (main, Oct  3 2024, 07:29:13) [GCC 11.2.0]\n",
      "---------------------------------------------------------------------------------------------------------------------------------------------\n",
      "matplotlib version: 3.9.2\n",
      "seaborn version: 0.13.2\n",
      "sklearn version: 1.5.1\n",
      "XGBoost version: 2.1.2\n",
      "pandas version: 2.2.2\n",
      "numpy version: 1.26.4\n"
     ]
    }
   ],
   "source": [
    "# System versions\n",
    "print(\"Platform:\", sys.platform)\n",
    "print(\"Python version:\", sys.version)\n",
    "print(\"---\" * 47)\n",
    "\n",
    "# Libraries versions\n",
    "print(\"matplotlib version:\", matplotlib.__version__)\n",
    "print(\"seaborn version:\", sns.__version__)\n",
    "print(\"sklearn version:\", sklearn.__version__)\n",
    "print(\"XGBoost version:\", xgb.__version__)\n",
    "print(\"pandas version:\", pd.__version__)\n",
    "print(\"numpy version:\", np.__version__)"
   ]
  },
  {
   "cell_type": "markdown",
   "id": "d9d00e6a-e5e5-40ba-8fcf-ff4ec32636e9",
   "metadata": {},
   "source": [
    "# Data Sourcing"
   ]
  },
  {
   "cell_type": "markdown",
   "id": "889ee97b-4489-4030-93fa-7cb6c61b51c8",
   "metadata": {},
   "source": [
    "Let's download the [dataset](https://www.kaggle.com/datasets/anthonytherrien/depression-dataset) using the command line interface (`CLI`):"
   ]
  },
  {
   "cell_type": "code",
   "execution_count": 5,
   "id": "082c3255-0c2e-4c43-8e17-86beb841c27f",
   "metadata": {},
   "outputs": [
    {
     "name": "stdout",
     "output_type": "stream",
     "text": [
      "Warning: Your Kaggle API key is readable by other users on this system! To fix this, you can run 'chmod 600 /home/maxim-eyengue/.kaggle/kaggle.json'\n",
      "Dataset URL: https://www.kaggle.com/datasets/anthonytherrien/depression-dataset\n",
      "License(s): CC-BY-SA-4.0\n",
      "Downloading depression-dataset.zip to /home/maxim-eyengue/Depression-Mood-Tracker\n",
      "100%|██████████████████████████████████████| 8.69M/8.69M [02:16<00:00, 42.0kB/s]\n",
      "100%|██████████████████████████████████████| 8.69M/8.69M [02:16<00:00, 66.9kB/s]\n"
     ]
    }
   ],
   "source": [
    "# download the data\n",
    "!kaggle datasets download anthonytherrien/depression-dataset"
   ]
  },
  {
   "cell_type": "code",
   "execution_count": 6,
   "id": "74703378-a326-40b1-bb39-f127e05df6e7",
   "metadata": {},
   "outputs": [
    {
     "name": "stdout",
     "output_type": "stream",
     "text": [
      "LICENSE    capstone_project_01.ipynb  depression-dataset.zip  images\n",
      "README.md  data\t\t\t      draft\n"
     ]
    }
   ],
   "source": [
    "# list files in current directory\n",
    "!ls"
   ]
  },
  {
   "cell_type": "markdown",
   "id": "4fa9ce09-e152-499f-a02d-8a141ff84fbd",
   "metadata": {},
   "source": [
    "A .zip file (`depression-dataset.zip`) containing the dataset has been downloaded. We will extract the data and store it into the `data` folder."
   ]
  },
  {
   "cell_type": "code",
   "execution_count": 7,
   "id": "b1153137-4624-4d9f-b296-835fab4ae7db",
   "metadata": {},
   "outputs": [],
   "source": [
    "# Unzip the `depression-dataset.zip` file\n",
    "with zipfile.ZipFile(\"depression-dataset.zip\", \"r\") as depression_data:\n",
    "    depression_data.extractall(\"data\") # extract all files to the data directory"
   ]
  },
  {
   "cell_type": "code",
   "execution_count": 8,
   "id": "da0f05ed-d3ae-4c02-b4a1-301cac03a13e",
   "metadata": {},
   "outputs": [
    {
     "name": "stdout",
     "output_type": "stream",
     "text": [
      "depression_data.csv\n"
     ]
    }
   ],
   "source": [
    "# list files in the folder `data`\n",
    "!ls data"
   ]
  },
  {
   "cell_type": "markdown",
   "id": "0476eaeb-4d23-4cda-a4ea-b5577c324f20",
   "metadata": {},
   "source": [
    "We can see that there is now a new .csv file: `depression_data.csv`, in the `data` directory.\n",
    "\n",
    "Let's visualize its first lines:"
   ]
  },
  {
   "cell_type": "code",
   "execution_count": 9,
   "id": "5afc2b42-c61f-493d-87ba-2fdd06f5ecae",
   "metadata": {},
   "outputs": [
    {
     "name": "stdout",
     "output_type": "stream",
     "text": [
      "Name,Age,Marital Status,Education Level,Number of Children,Smoking Status,Physical Activity Level,Employment Status,Income,Alcohol Consumption,Dietary Habits,Sleep Patterns,History of Mental Illness,History of Substance Abuse,Family History of Depression,Chronic Medical Conditions\n",
      "Christine Barker,31,Married,Bachelor's Degree,2,Non-smoker,Active,Unemployed,26265.67,Moderate,Moderate,Fair,Yes,No,Yes,Yes\n",
      "Jacqueline Lewis,55,Married,High School,1,Non-smoker,Sedentary,Employed,42710.36,High,Unhealthy,Fair,Yes,No,No,Yes\n",
      "Shannon Church,78,Widowed,Master's Degree,1,Non-smoker,Sedentary,Employed,125332.79,Low,Unhealthy,Good,No,No,Yes,No\n",
      "Charles Jordan,58,Divorced,Master's Degree,3,Non-smoker,Moderate,Unemployed,9992.78,Moderate,Moderate,Poor,No,No,No,No\n",
      "Michael Rich,18,Single,High School,0,Non-smoker,Sedentary,Unemployed,8595.08,Low,Moderate,Fair,Yes,No,Yes,Yes\n",
      "Kathy Hill,20,Single,High School,0,Former,Active,Employed,44448.91,Low,Unhealthy,Fair,No,Yes,No,No\n",
      "Crystal Delgado,60,Widowed,Associate Degree,1,Non-smoker,Sedentary,Unemployed,22565.47,Moderate,Moderate,Poor,No,Yes,No,No\n",
      "Charles Kaiser,31,Single,High School,0,Non-smoker,Active,Employed,39608.18,Moderate,Unhealthy,Good,No,No,No,No\n",
      "Kathryn Taylor,50,Divorced,Bachelor's Degree,0,Non-smoker,Active,Employed,93360.07,Moderate,Healthy,Good,No,Yes,No,Yes\n"
     ]
    }
   ],
   "source": [
    "# dataset first rows\n",
    "!head data/depression_data.csv"
   ]
  },
  {
   "cell_type": "markdown",
   "id": "c23600c4-cb5b-467e-bf75-4c202f432cc1",
   "metadata": {},
   "source": [
    "We can now read the dataset as a dataframe:"
   ]
  },
  {
   "cell_type": "code",
   "execution_count": 45,
   "id": "979e2ed8-083d-4b08-b58d-4e4747ce9c2a",
   "metadata": {},
   "outputs": [
    {
     "data": {
      "text/html": [
       "<div>\n",
       "<style scoped>\n",
       "    .dataframe tbody tr th:only-of-type {\n",
       "        vertical-align: middle;\n",
       "    }\n",
       "\n",
       "    .dataframe tbody tr th {\n",
       "        vertical-align: top;\n",
       "    }\n",
       "\n",
       "    .dataframe thead th {\n",
       "        text-align: right;\n",
       "    }\n",
       "</style>\n",
       "<table border=\"1\" class=\"dataframe\">\n",
       "  <thead>\n",
       "    <tr style=\"text-align: right;\">\n",
       "      <th></th>\n",
       "      <th>Name</th>\n",
       "      <th>Age</th>\n",
       "      <th>Marital Status</th>\n",
       "      <th>Education Level</th>\n",
       "      <th>Number of Children</th>\n",
       "      <th>Smoking Status</th>\n",
       "      <th>Physical Activity Level</th>\n",
       "      <th>Employment Status</th>\n",
       "      <th>Income</th>\n",
       "      <th>Alcohol Consumption</th>\n",
       "      <th>Dietary Habits</th>\n",
       "      <th>Sleep Patterns</th>\n",
       "      <th>History of Mental Illness</th>\n",
       "      <th>History of Substance Abuse</th>\n",
       "      <th>Family History of Depression</th>\n",
       "      <th>Chronic Medical Conditions</th>\n",
       "    </tr>\n",
       "  </thead>\n",
       "  <tbody>\n",
       "    <tr>\n",
       "      <th>413765</th>\n",
       "      <td>Matthew Jenkins</td>\n",
       "      <td>57</td>\n",
       "      <td>Married</td>\n",
       "      <td>Bachelor's Degree</td>\n",
       "      <td>0</td>\n",
       "      <td>Non-smoker</td>\n",
       "      <td>Sedentary</td>\n",
       "      <td>Employed</td>\n",
       "      <td>77353.26</td>\n",
       "      <td>Moderate</td>\n",
       "      <td>Moderate</td>\n",
       "      <td>Fair</td>\n",
       "      <td>No</td>\n",
       "      <td>No</td>\n",
       "      <td>Yes</td>\n",
       "      <td>Yes</td>\n",
       "    </tr>\n",
       "    <tr>\n",
       "      <th>413766</th>\n",
       "      <td>Gary Faulkner</td>\n",
       "      <td>71</td>\n",
       "      <td>Married</td>\n",
       "      <td>Associate Degree</td>\n",
       "      <td>2</td>\n",
       "      <td>Non-smoker</td>\n",
       "      <td>Sedentary</td>\n",
       "      <td>Unemployed</td>\n",
       "      <td>24557.08</td>\n",
       "      <td>Moderate</td>\n",
       "      <td>Moderate</td>\n",
       "      <td>Poor</td>\n",
       "      <td>No</td>\n",
       "      <td>Yes</td>\n",
       "      <td>No</td>\n",
       "      <td>No</td>\n",
       "    </tr>\n",
       "    <tr>\n",
       "      <th>413767</th>\n",
       "      <td>Joseph Johnson</td>\n",
       "      <td>62</td>\n",
       "      <td>Widowed</td>\n",
       "      <td>Master's Degree</td>\n",
       "      <td>0</td>\n",
       "      <td>Former</td>\n",
       "      <td>Moderate</td>\n",
       "      <td>Employed</td>\n",
       "      <td>107125.74</td>\n",
       "      <td>Moderate</td>\n",
       "      <td>Healthy</td>\n",
       "      <td>Good</td>\n",
       "      <td>No</td>\n",
       "      <td>Yes</td>\n",
       "      <td>No</td>\n",
       "      <td>No</td>\n",
       "    </tr>\n",
       "  </tbody>\n",
       "</table>\n",
       "</div>"
      ],
      "text/plain": [
       "                   Name  Age Marital Status    Education Level  \\\n",
       "413765  Matthew Jenkins   57        Married  Bachelor's Degree   \n",
       "413766    Gary Faulkner   71        Married   Associate Degree   \n",
       "413767   Joseph Johnson   62        Widowed    Master's Degree   \n",
       "\n",
       "        Number of Children Smoking Status Physical Activity Level  \\\n",
       "413765                   0     Non-smoker               Sedentary   \n",
       "413766                   2     Non-smoker               Sedentary   \n",
       "413767                   0         Former                Moderate   \n",
       "\n",
       "       Employment Status     Income Alcohol Consumption Dietary Habits  \\\n",
       "413765          Employed   77353.26            Moderate       Moderate   \n",
       "413766        Unemployed   24557.08            Moderate       Moderate   \n",
       "413767          Employed  107125.74            Moderate        Healthy   \n",
       "\n",
       "       Sleep Patterns History of Mental Illness History of Substance Abuse  \\\n",
       "413765           Fair                        No                         No   \n",
       "413766           Poor                        No                        Yes   \n",
       "413767           Good                        No                        Yes   \n",
       "\n",
       "       Family History of Depression Chronic Medical Conditions  \n",
       "413765                          Yes                        Yes  \n",
       "413766                           No                         No  \n",
       "413767                           No                         No  "
      ]
     },
     "execution_count": 45,
     "metadata": {},
     "output_type": "execute_result"
    }
   ],
   "source": [
    "# Read the dataframe\n",
    "df = pd.read_csv(\"data/depression_data.csv\")\n",
    "\n",
    "# Three last rows\n",
    "df.tail(3)"
   ]
  },
  {
   "cell_type": "markdown",
   "id": "da51eb6f-227b-40ca-b632-68a92d3f4615",
   "metadata": {},
   "source": [
    "# Exporatory Data Analysis & Data Preparation"
   ]
  },
  {
   "cell_type": "markdown",
   "id": "996105cf-39cd-4dfb-9f5b-a33cdc09c880",
   "metadata": {},
   "source": [
    "Let's get more information about the dataset:"
   ]
  },
  {
   "cell_type": "code",
   "execution_count": 46,
   "id": "cfa3d5d1-8107-4869-974b-6692a6c5b3ca",
   "metadata": {},
   "outputs": [
    {
     "name": "stdout",
     "output_type": "stream",
     "text": [
      "<class 'pandas.core.frame.DataFrame'>\n",
      "RangeIndex: 413768 entries, 0 to 413767\n",
      "Data columns (total 16 columns):\n",
      " #   Column                        Non-Null Count   Dtype  \n",
      "---  ------                        --------------   -----  \n",
      " 0   Name                          413768 non-null  object \n",
      " 1   Age                           413768 non-null  int64  \n",
      " 2   Marital Status                413768 non-null  object \n",
      " 3   Education Level               413768 non-null  object \n",
      " 4   Number of Children            413768 non-null  int64  \n",
      " 5   Smoking Status                413768 non-null  object \n",
      " 6   Physical Activity Level       413768 non-null  object \n",
      " 7   Employment Status             413768 non-null  object \n",
      " 8   Income                        413768 non-null  float64\n",
      " 9   Alcohol Consumption           413768 non-null  object \n",
      " 10  Dietary Habits                413768 non-null  object \n",
      " 11  Sleep Patterns                413768 non-null  object \n",
      " 12  History of Mental Illness     413768 non-null  object \n",
      " 13  History of Substance Abuse    413768 non-null  object \n",
      " 14  Family History of Depression  413768 non-null  object \n",
      " 15  Chronic Medical Conditions    413768 non-null  object \n",
      "dtypes: float64(1), int64(2), object(13)\n",
      "memory usage: 50.5+ MB\n"
     ]
    }
   ],
   "source": [
    "# Data information\n",
    "df.info()"
   ]
  },
  {
   "cell_type": "code",
   "execution_count": 47,
   "id": "50633acc-2d1c-432d-a4dc-b65ecb5fd8d7",
   "metadata": {},
   "outputs": [
    {
     "data": {
      "text/plain": [
       "Name                            0\n",
       "Age                             0\n",
       "Marital Status                  0\n",
       "Education Level                 0\n",
       "Number of Children              0\n",
       "Smoking Status                  0\n",
       "Physical Activity Level         0\n",
       "Employment Status               0\n",
       "Income                          0\n",
       "Alcohol Consumption             0\n",
       "Dietary Habits                  0\n",
       "Sleep Patterns                  0\n",
       "History of Mental Illness       0\n",
       "History of Substance Abuse      0\n",
       "Family History of Depression    0\n",
       "Chronic Medical Conditions      0\n",
       "dtype: int64"
      ]
     },
     "execution_count": 47,
     "metadata": {},
     "output_type": "execute_result"
    }
   ],
   "source": [
    "# Check missing values\n",
    "df.isna().sum()"
   ]
  },
  {
   "cell_type": "code",
   "execution_count": 48,
   "id": "1432d576-ad01-4abd-b830-fc02bea1a8da",
   "metadata": {},
   "outputs": [
    {
     "data": {
      "text/plain": [
       "0"
      ]
     },
     "execution_count": 48,
     "metadata": {},
     "output_type": "execute_result"
    }
   ],
   "source": [
    "# Check of duplicated rows\n",
    "df.duplicated().sum()"
   ]
  },
  {
   "cell_type": "markdown",
   "id": "d51367c6-9432-42b7-b89d-0e1549713e72",
   "metadata": {},
   "source": [
    "The dataset does not have any missing values, and duplicated rows.\n",
    "\n",
    "We can rename the variable names to uniformize them."
   ]
  },
  {
   "cell_type": "code",
   "execution_count": 59,
   "id": "512b01fc-6b9c-46db-be32-64db6a39b023",
   "metadata": {},
   "outputs": [
    {
     "data": {
      "text/plain": [
       "Index(['age', 'marital_status', 'education_level', 'number_of_children',\n",
       "       'smoking_status', 'physical_activity_level', 'employment_status',\n",
       "       'income', 'alcohol_consumption', 'dietary_habits', 'sleep_patterns',\n",
       "       'history_of_mental_illness', 'history_of_substance_abuse',\n",
       "       'family_history_of_depression', 'chronic_medical_conditions'],\n",
       "      dtype='object')"
      ]
     },
     "execution_count": 59,
     "metadata": {},
     "output_type": "execute_result"
    }
   ],
   "source": [
    "# Normalisation of column names\n",
    "df.columns = df.columns.str.lower().str.replace(' ', '_')\n",
    "# Dataset column names\n",
    "df.columns"
   ]
  },
  {
   "cell_type": "markdown",
   "id": "6fa70583-37c7-4abd-99f5-5342880168ad",
   "metadata": {},
   "source": [
    "The column `name` has private information that will not be used for training our models and that we would prefere to disclose."
   ]
  },
  {
   "cell_type": "code",
   "execution_count": 50,
   "id": "4b58d8c1-6812-4f8d-a961-c8fecd6b7767",
   "metadata": {},
   "outputs": [],
   "source": [
    "# drop patient names\n",
    "df.drop(columns = \"name\", inplace = True)"
   ]
  },
  {
   "cell_type": "markdown",
   "id": "9bb57a6b-6fdb-4bc7-b759-c4151ea18994",
   "metadata": {},
   "source": [
    "## Target Variable Analysis"
   ]
  },
  {
   "cell_type": "code",
   "execution_count": 51,
   "id": "bd457315-08c8-430d-8402-c07603777919",
   "metadata": {},
   "outputs": [
    {
     "data": {
      "image/png": "[encoded data removed]",
      "text/plain": [
       "<Figure size 500x500 with 1 Axes>"
      ]
     },
     "metadata": {},
     "output_type": "display_data"
    }
   ],
   "source": [
    "# Target variable distribution\n",
    "sns.catplot(df, y = \"chronic_medical_conditions\", kind = \"count\",\n",
    "            hue = \"chronic_medical_conditions\",\n",
    "            palette = \"pastel\",\n",
    "            edgecolor = \".5\");"
   ]
  },
  {
   "cell_type": "markdown",
   "id": "b4c588a6-ec53-4c6d-987a-41ecff7cf2c0",
   "metadata": {},
   "source": [
    "The data distribution for the target variable is highly unbalanced. There are many options to fix this issue:\n",
    "\n",
    "- Balancing the data: either with downsampling, oversampling, or a method mixing both techniques.\n",
    "- Using a metric that is suitable for unbalanced data such as the **AUC score**, or the **F1 score**.\n",
    "\n",
    "In this project, as the dataset is quite huge, we will perform a **down-sampling technique** to under-sample the majority class (`No`) so it reaches the minority one (`Yes`). We will perform this down-sampling with the `sample()` pandas method and `random_state` of `37` for reproducibility."
   ]
  },
  {
   "cell_type": "code",
   "execution_count": 52,
   "id": "0da0778d-48d8-4e03-910d-d2e71278f625",
   "metadata": {},
   "outputs": [
    {
     "data": {
      "text/plain": [
       "136207"
      ]
     },
     "execution_count": 52,
     "metadata": {},
     "output_type": "execute_result"
    }
   ],
   "source": [
    "# Get the minority class size\n",
    "down_size = len(df[df.chronic_medical_conditions == \"Yes\"])\n",
    "down_size # output this size"
   ]
  },
  {
   "cell_type": "code",
   "execution_count": 53,
   "id": "71af836f-c833-4c6d-848b-c4b5ce5d18b7",
   "metadata": {},
   "outputs": [
    {
     "name": "stdout",
     "output_type": "stream",
     "text": [
      "Data Shape: 272414 rows and 15 columns. ---------------------------------------------------------------------------------------------------------------\n"
     ]
    },
    {
     "data": {
      "text/html": [
       "<div>\n",
       "<style scoped>\n",
       "    .dataframe tbody tr th:only-of-type {\n",
       "        vertical-align: middle;\n",
       "    }\n",
       "\n",
       "    .dataframe tbody tr th {\n",
       "        vertical-align: top;\n",
       "    }\n",
       "\n",
       "    .dataframe thead th {\n",
       "        text-align: right;\n",
       "    }\n",
       "</style>\n",
       "<table border=\"1\" class=\"dataframe\">\n",
       "  <thead>\n",
       "    <tr style=\"text-align: right;\">\n",
       "      <th></th>\n",
       "      <th>age</th>\n",
       "      <th>marital_status</th>\n",
       "      <th>education_level</th>\n",
       "      <th>number_of_children</th>\n",
       "      <th>smoking_status</th>\n",
       "      <th>physical_activity_level</th>\n",
       "      <th>employment_status</th>\n",
       "      <th>income</th>\n",
       "      <th>alcohol_consumption</th>\n",
       "      <th>dietary_habits</th>\n",
       "      <th>sleep_patterns</th>\n",
       "      <th>history_of_mental_illness</th>\n",
       "      <th>history_of_substance_abuse</th>\n",
       "      <th>family_history_of_depression</th>\n",
       "      <th>chronic_medical_conditions</th>\n",
       "    </tr>\n",
       "  </thead>\n",
       "  <tbody>\n",
       "    <tr>\n",
       "      <th>0</th>\n",
       "      <td>22</td>\n",
       "      <td>Single</td>\n",
       "      <td>Associate Degree</td>\n",
       "      <td>0</td>\n",
       "      <td>Current</td>\n",
       "      <td>Moderate</td>\n",
       "      <td>Employed</td>\n",
       "      <td>59302.22</td>\n",
       "      <td>High</td>\n",
       "      <td>Unhealthy</td>\n",
       "      <td>Poor</td>\n",
       "      <td>Yes</td>\n",
       "      <td>No</td>\n",
       "      <td>No</td>\n",
       "      <td>Yes</td>\n",
       "    </tr>\n",
       "    <tr>\n",
       "      <th>1</th>\n",
       "      <td>64</td>\n",
       "      <td>Married</td>\n",
       "      <td>Master's Degree</td>\n",
       "      <td>1</td>\n",
       "      <td>Non-smoker</td>\n",
       "      <td>Sedentary</td>\n",
       "      <td>Employed</td>\n",
       "      <td>82646.99</td>\n",
       "      <td>Moderate</td>\n",
       "      <td>Unhealthy</td>\n",
       "      <td>Poor</td>\n",
       "      <td>No</td>\n",
       "      <td>Yes</td>\n",
       "      <td>No</td>\n",
       "      <td>No</td>\n",
       "    </tr>\n",
       "    <tr>\n",
       "      <th>2</th>\n",
       "      <td>38</td>\n",
       "      <td>Single</td>\n",
       "      <td>Bachelor's Degree</td>\n",
       "      <td>0</td>\n",
       "      <td>Current</td>\n",
       "      <td>Sedentary</td>\n",
       "      <td>Employed</td>\n",
       "      <td>62609.04</td>\n",
       "      <td>Low</td>\n",
       "      <td>Unhealthy</td>\n",
       "      <td>Fair</td>\n",
       "      <td>No</td>\n",
       "      <td>Yes</td>\n",
       "      <td>No</td>\n",
       "      <td>No</td>\n",
       "    </tr>\n",
       "  </tbody>\n",
       "</table>\n",
       "</div>"
      ],
      "text/plain": [
       "   age marital_status    education_level  number_of_children smoking_status  \\\n",
       "0   22         Single   Associate Degree                   0        Current   \n",
       "1   64        Married    Master's Degree                   1     Non-smoker   \n",
       "2   38         Single  Bachelor's Degree                   0        Current   \n",
       "\n",
       "  physical_activity_level employment_status    income alcohol_consumption  \\\n",
       "0                Moderate          Employed  59302.22                High   \n",
       "1               Sedentary          Employed  82646.99            Moderate   \n",
       "2               Sedentary          Employed  62609.04                 Low   \n",
       "\n",
       "  dietary_habits sleep_patterns history_of_mental_illness  \\\n",
       "0      Unhealthy           Poor                       Yes   \n",
       "1      Unhealthy           Poor                        No   \n",
       "2      Unhealthy           Fair                        No   \n",
       "\n",
       "  history_of_substance_abuse family_history_of_depression  \\\n",
       "0                         No                           No   \n",
       "1                        Yes                           No   \n",
       "2                        Yes                           No   \n",
       "\n",
       "  chronic_medical_conditions  \n",
       "0                        Yes  \n",
       "1                         No  \n",
       "2                         No  "
      ]
     },
     "execution_count": 53,
     "metadata": {},
     "output_type": "execute_result"
    }
   ],
   "source": [
    "# Get a down-sampled subset of the majority class\n",
    "df_maj_class = df[df.chronic_medical_conditions == \"No\"].sample(n = down_size, random_state = 37)\n",
    "\n",
    "# Build the balanced dataset\n",
    "bal_df = pd.concat([df_maj_class, # majority class\n",
    "                    df[df.chronic_medical_conditions == \"Yes\"] # minority class\n",
    "                   ])\n",
    "# Let's shuffle the data-set\n",
    "bal_df = bal_df.sample(frac = 1, random_state = 1).reset_index(drop = True)\n",
    "\n",
    "# Data shape\n",
    "print(f\"Data Shape: {bal_df.shape[0]} rows and {bal_df.shape[1]} columns.\", \"---\"*37)\n",
    "# First elements of the resampled\n",
    "bal_df.head(3)"
   ]
  },
  {
   "cell_type": "markdown",
   "id": "209c6264-6869-4518-8013-8916eabd66a8",
   "metadata": {},
   "source": [
    "We have a new dataset. Let's make sure it is well balanced by visualizing the target proportion with a pie chart."
   ]
  },
  {
   "cell_type": "code",
   "execution_count": 54,
   "id": "c4388587-0a0a-4a3d-8aaa-9b73f7952cd8",
   "metadata": {},
   "outputs": [
    {
     "data": {
      "image/png": "[encoded data removed]",
      "text/plain": [
       "<Figure size 640x480 with 1 Axes>"
      ]
     },
     "metadata": {},
     "output_type": "display_data"
    }
   ],
   "source": [
    "# Labels\n",
    "labs_names = ['depressed','healthy']\n",
    "# Target value counts\n",
    "data_counts = list(bal_df[\"chronic_medical_conditions\"].value_counts())\n",
    "# Space between pies\n",
    "pie_space = (0.15, 0)\n",
    "# Title\n",
    "plt.title('Depression Disease Repartition')\n",
    "# Target variable distribution Pie chart\n",
    "plt.pie(data_counts, explode = pie_space, labels = labs_names , autopct = '%1.2f%%',\n",
    "        startangle = 90, shadow = True)\n",
    "# Put title and plot on same axis\n",
    "plt.axis('equal');"
   ]
  },
  {
   "cell_type": "markdown",
   "id": "f38737d0-7fd1-4918-8fd2-26c1c784349f",
   "metadata": {},
   "source": [
    "The dataset is now well balanced. If we drop any data during data cleaning. We will proceed to another check to verify wether we can use `accuracy score` as metric to evaluate our models."
   ]
  },
  {
   "cell_type": "markdown",
   "id": "652acc1b-3692-47be-88b7-17e403af1072",
   "metadata": {},
   "source": [
    "## Summary Statistics"
   ]
  },
  {
   "cell_type": "code",
   "execution_count": 60,
   "id": "929dce5c-be9f-498f-97ce-8c15c480505c",
   "metadata": {},
   "outputs": [
    {
     "data": {
      "text/plain": [
       "['age', 'number_of_children', 'income']"
      ]
     },
     "execution_count": 60,
     "metadata": {},
     "output_type": "execute_result"
    }
   ],
   "source": [
    "# list of categorical feature variables\n",
    "numerical = bal_df.select_dtypes(\"number\").columns.to_list()\n",
    "numerical"
   ]
  },
  {
   "cell_type": "code",
   "execution_count": 61,
   "id": "ebd5f538-4671-45d0-a4d7-b4252deab21d",
   "metadata": {},
   "outputs": [
    {
     "data": {
      "text/html": [
       "<div>\n",
       "<style scoped>\n",
       "    .dataframe tbody tr th:only-of-type {\n",
       "        vertical-align: middle;\n",
       "    }\n",
       "\n",
       "    .dataframe tbody tr th {\n",
       "        vertical-align: top;\n",
       "    }\n",
       "\n",
       "    .dataframe thead th {\n",
       "        text-align: right;\n",
       "    }\n",
       "</style>\n",
       "<table border=\"1\" class=\"dataframe\">\n",
       "  <thead>\n",
       "    <tr style=\"text-align: right;\">\n",
       "      <th></th>\n",
       "      <th>count</th>\n",
       "      <th>mean</th>\n",
       "      <th>std</th>\n",
       "      <th>min</th>\n",
       "      <th>25%</th>\n",
       "      <th>50%</th>\n",
       "      <th>75%</th>\n",
       "      <th>max</th>\n",
       "    </tr>\n",
       "  </thead>\n",
       "  <tbody>\n",
       "    <tr>\n",
       "      <th>age</th>\n",
       "      <td>272414.0</td>\n",
       "      <td>48.88</td>\n",
       "      <td>18.17</td>\n",
       "      <td>18.00</td>\n",
       "      <td>33.00</td>\n",
       "      <td>49.00</td>\n",
       "      <td>65.00</td>\n",
       "      <td>80.00</td>\n",
       "    </tr>\n",
       "    <tr>\n",
       "      <th>number_of_children</th>\n",
       "      <td>272414.0</td>\n",
       "      <td>1.30</td>\n",
       "      <td>1.24</td>\n",
       "      <td>0.00</td>\n",
       "      <td>0.00</td>\n",
       "      <td>1.00</td>\n",
       "      <td>2.00</td>\n",
       "      <td>4.00</td>\n",
       "    </tr>\n",
       "    <tr>\n",
       "      <th>income</th>\n",
       "      <td>272414.0</td>\n",
       "      <td>50205.16</td>\n",
       "      <td>40570.14</td>\n",
       "      <td>0.41</td>\n",
       "      <td>20613.74</td>\n",
       "      <td>37028.01</td>\n",
       "      <td>75477.26</td>\n",
       "      <td>209995.22</td>\n",
       "    </tr>\n",
       "  </tbody>\n",
       "</table>\n",
       "</div>"
      ],
      "text/plain": [
       "                       count      mean       std    min       25%       50%  \\\n",
       "age                 272414.0     48.88     18.17  18.00     33.00     49.00   \n",
       "number_of_children  272414.0      1.30      1.24   0.00      0.00      1.00   \n",
       "income              272414.0  50205.16  40570.14   0.41  20613.74  37028.01   \n",
       "\n",
       "                         75%        max  \n",
       "age                    65.00      80.00  \n",
       "number_of_children      2.00       4.00  \n",
       "income              75477.26  209995.22  "
      ]
     },
     "execution_count": 61,
     "metadata": {},
     "output_type": "execute_result"
    }
   ],
   "source": [
    "# Data description\n",
    "bal_df.describe().T.round(2)"
   ]
  },
  {
   "cell_type": "markdown",
   "id": "d39dea8e-1414-4bb9-9d68-3c395f4d4f04",
   "metadata": {},
   "source": [
    "There are some outliers in the `income` variable. According to the fact that patient ages vary between `18` to `80` years old, and with real world possibilities, those values, may them be very small (`0.41`), or very large (`209995.22`) are certiainly correct values.\n",
    "\n",
    "However, let's visualize the distribution of numerical variables better to get more information."
   ]
  },
  {
   "cell_type": "markdown",
   "id": "3db3d13a",
   "metadata": {},
   "source": [
    "## Numerical features data distribution"
   ]
  },
  {
   "cell_type": "code",
   "execution_count": null,
   "id": "1421b7eb-8d27-4e10-8f8c-7fb383e8f753",
   "metadata": {},
   "outputs": [],
   "source": [
    "# Histograms of numerical variables\n",
    "df.hist(figsize = (10, 10));"
   ]
  },
  {
   "cell_type": "markdown",
   "id": "1ac2d152-9123-4d32-910d-59c5d1bcd3be",
   "metadata": {},
   "source": [
    "## Categorical variables values"
   ]
  },
  {
   "cell_type": "code",
   "execution_count": 56,
   "id": "56437f0a-2741-4463-acf9-d455359d9190",
   "metadata": {},
   "outputs": [
    {
     "data": {
      "text/plain": [
       "['marital_status',\n",
       " 'education_level',\n",
       " 'smoking_status',\n",
       " 'physical_activity_level',\n",
       " 'employment_status',\n",
       " 'alcohol_consumption',\n",
       " 'dietary_habits',\n",
       " 'sleep_patterns',\n",
       " 'history_of_mental_illness',\n",
       " 'history_of_substance_abuse',\n",
       " 'family_history_of_depression']"
      ]
     },
     "execution_count": 56,
     "metadata": {},
     "output_type": "execute_result"
    }
   ],
   "source": [
    "# list of categorical feature variables\n",
    "categorical = df.drop(columns = \"chronic_medical_conditions\").select_dtypes(\"object\").columns.to_list()\n",
    "categorical"
   ]
  },
  {
   "cell_type": "code",
   "execution_count": 45,
   "id": "bddcf5ae-7b72-4a42-9336-e24cdce9ff00",
   "metadata": {},
   "outputs": [
    {
     "name": "stdout",
     "output_type": "stream",
     "text": [
      "- Name --> ['Christine Barker' 'Jacqueline Lewis' 'Shannon Church' ...\n",
      " 'Madeline Butler' 'Travis Brewer' 'Gary Faulkner'] \n",
      "\n",
      "- Marital Status --> ['Married' 'Widowed' 'Divorced' 'Single'] \n",
      "\n",
      "- Education Level --> [\"Bachelor's Degree\" 'High School' \"Master's Degree\" 'Associate Degree'\n",
      " 'PhD'] \n",
      "\n",
      "- Smoking Status --> ['Non-smoker' 'Former' 'Current'] \n",
      "\n",
      "- Physical Activity Level --> ['Active' 'Sedentary' 'Moderate'] \n",
      "\n",
      "- Employment Status --> ['Unemployed' 'Employed'] \n",
      "\n",
      "- Alcohol Consumption --> ['Moderate' 'High' 'Low'] \n",
      "\n",
      "- Dietary Habits --> ['Moderate' 'Unhealthy' 'Healthy'] \n",
      "\n",
      "- Sleep Patterns --> ['Fair' 'Good' 'Poor'] \n",
      "\n",
      "- History of Mental Illness --> ['Yes' 'No'] \n",
      "\n",
      "- History of Substance Abuse --> ['No' 'Yes'] \n",
      "\n",
      "- Family History of Depression --> ['Yes' 'No'] \n",
      "\n"
     ]
    }
   ],
   "source": [
    "# For each categorical variable\n",
    "for cat in categorical:\n",
    "    # Print the variable and its values\n",
    "    print(f\"- {cat} --> {df[cat].unique()} \\n\")"
   ]
  },
  {
   "cell_type": "markdown",
   "id": "8e1470ba-6b5b-4819-820e-94d70cae5675",
   "metadata": {},
   "source": [
    "---"
   ]
  }
 ],
 "metadata": {
  "kernelspec": {
   "display_name": "Python 3 (ipykernel)",
   "language": "python",
   "name": "python3"
  },
  "language_info": {
   "codemirror_mode": {
    "name": "ipython",
    "version": 3
   },
   "file_extension": ".py",
   "mimetype": "text/x-python",
   "name": "python",
   "nbconvert_exporter": "python",
   "pygments_lexer": "ipython3",
   "version": "3.11.10"
  }
 },
 "nbformat": 4,
 "nbformat_minor": 5
}
